{
 "cells": [
  {
   "cell_type": "code",
   "execution_count": 1,
   "metadata": {
    "collapsed": true,
    "pycharm": {
     "is_executing": false
    }
   },
   "outputs": [],
   "source": [
    "# data.csv is a small preview of data-training.csv\n",
    "# It is okay to use data.csv for debugging purposes, but for the actual training data-training.csv should be used\n",
    "# data-training.csv was used to produce the HTML of this Jupyter notebook, but is not included in this repository\n",
    "\n",
    "DATA_LOCATION = '../data-training.csv'"
   ]
  },
  {
   "cell_type": "code",
   "execution_count": 2,
   "outputs": [],
   "source": [
    "# Save data to dataframe\n",
    "\n",
    "import pandas as pd\n",
    "df = pd.read_csv(DATA_LOCATION)"
   ],
   "metadata": {
    "collapsed": false,
    "pycharm": {
     "name": "#%%\n",
     "is_executing": false
    }
   }
  },
  {
   "cell_type": "code",
   "execution_count": 3,
   "outputs": [],
   "source": [
    "# Fill NaN values with zeroes, as required by the problem statement\n",
    "\n",
    "df.fillna(0, inplace = True)"
   ],
   "metadata": {
    "collapsed": false,
    "pycharm": {
     "name": "#%%\n",
     "is_executing": false
    }
   }
  },
  {
   "cell_type": "code",
   "execution_count": 4,
   "outputs": [
    {
     "data": {
      "text/plain": "           askRate0  askRate1  askRate2  askRate3  askRate4  askRate5  \\\naskRate0   1.000000  0.978121  0.962060  0.943962  0.923187  0.906472   \naskRate1   0.978121  1.000000  0.983577  0.965077  0.943823  0.926730   \naskRate2   0.962060  0.983577  1.000000  0.981198  0.959574  0.942187   \naskRate3   0.943962  0.965077  0.981198  1.000000  0.977960  0.960242   \naskRate4   0.923187  0.943823  0.959574  0.977960  1.000000  0.981890   \n...             ...       ...       ...       ...       ...       ...   \nbidSize11 -0.185028 -0.181255 -0.178533 -0.175415 -0.171671 -0.168778   \nbidSize12 -0.197875 -0.193599 -0.190470 -0.187000 -0.182821 -0.179691   \nbidSize13 -0.194533 -0.190151 -0.186948 -0.183360 -0.179067 -0.175671   \nbidSize14 -0.195466 -0.191212 -0.188040 -0.184615 -0.180679 -0.177632   \ny         -0.011365 -0.010363 -0.010095 -0.009620 -0.009189 -0.009208   \n\n           askRate6  askRate7  askRate8  askRate9  ...  bidSize6  bidSize7  \\\naskRate0   0.890943  0.877397  0.866211  0.855753  ... -0.177827 -0.176697   \naskRate1   0.910843  0.896994  0.885555  0.874861  ... -0.174499 -0.172914   \naskRate2   0.926026  0.911943  0.900311  0.889440  ... -0.171801 -0.170152   \naskRate3   0.943775  0.929428  0.917574  0.906502  ... -0.168773 -0.167214   \naskRate4   0.965061  0.950403  0.938289  0.926975  ... -0.165602 -0.163599   \n...             ...       ...       ...       ...  ...       ...       ...   \nbidSize11 -0.166217 -0.163877 -0.161992 -0.160149  ...  0.026057  0.235840   \nbidSize12 -0.176645 -0.173900 -0.171869 -0.169884  ...  0.259492  0.059747   \nbidSize13 -0.172512 -0.169832 -0.167494 -0.165424  ...  0.037640  0.225516   \nbidSize14 -0.174627 -0.172032 -0.169906 -0.167873  ...  0.171910  0.058765   \ny         -0.008868 -0.008307 -0.008033 -0.007693  ...  0.005607  0.001157   \n\n           bidSize8  bidSize9  bidSize10  bidSize11  bidSize12  bidSize13  \\\naskRate0  -0.186292 -0.171415  -0.191442  -0.185028  -0.197875  -0.194533   \naskRate1  -0.182693 -0.167820  -0.188033  -0.181255  -0.193599  -0.190151   \naskRate2  -0.179779 -0.165071  -0.185254  -0.178533  -0.190470  -0.186948   \naskRate3  -0.176452 -0.161989  -0.181866  -0.175415  -0.187000  -0.183360   \naskRate4  -0.172696 -0.158595  -0.179233  -0.171671  -0.182821  -0.179067   \n...             ...       ...        ...        ...        ...        ...   \nbidSize11  0.024195  0.269019   0.028040   1.000000   0.035424   0.263080   \nbidSize12  0.225001  0.045081   0.249411   0.035424   1.000000   0.028798   \nbidSize13  0.049657  0.223095   0.045414   0.263080   0.028798   1.000000   \nbidSize14  0.204565  0.037405   0.199062   0.033162   0.218764   0.027354   \ny          0.006540  0.007575   0.004998   0.005139   0.004842   0.004210   \n\n           bidSize14         y  \naskRate0   -0.195466 -0.011365  \naskRate1   -0.191212 -0.010363  \naskRate2   -0.188040 -0.010095  \naskRate3   -0.184615 -0.009620  \naskRate4   -0.180679 -0.009189  \n...              ...       ...  \nbidSize11   0.033162  0.005139  \nbidSize12   0.218764  0.004842  \nbidSize13   0.027354  0.004210  \nbidSize14   1.000000  0.001813  \ny           0.001813  1.000000  \n\n[61 rows x 61 columns]",
      "text/html": "<div>\n<style scoped>\n    .dataframe tbody tr th:only-of-type {\n        vertical-align: middle;\n    }\n\n    .dataframe tbody tr th {\n        vertical-align: top;\n    }\n\n    .dataframe thead th {\n        text-align: right;\n    }\n</style>\n<table border=\"1\" class=\"dataframe\">\n  <thead>\n    <tr style=\"text-align: right;\">\n      <th></th>\n      <th>askRate0</th>\n      <th>askRate1</th>\n      <th>askRate2</th>\n      <th>askRate3</th>\n      <th>askRate4</th>\n      <th>askRate5</th>\n      <th>askRate6</th>\n      <th>askRate7</th>\n      <th>askRate8</th>\n      <th>askRate9</th>\n      <th>...</th>\n      <th>bidSize6</th>\n      <th>bidSize7</th>\n      <th>bidSize8</th>\n      <th>bidSize9</th>\n      <th>bidSize10</th>\n      <th>bidSize11</th>\n      <th>bidSize12</th>\n      <th>bidSize13</th>\n      <th>bidSize14</th>\n      <th>y</th>\n    </tr>\n  </thead>\n  <tbody>\n    <tr>\n      <td>askRate0</td>\n      <td>1.000000</td>\n      <td>0.978121</td>\n      <td>0.962060</td>\n      <td>0.943962</td>\n      <td>0.923187</td>\n      <td>0.906472</td>\n      <td>0.890943</td>\n      <td>0.877397</td>\n      <td>0.866211</td>\n      <td>0.855753</td>\n      <td>...</td>\n      <td>-0.177827</td>\n      <td>-0.176697</td>\n      <td>-0.186292</td>\n      <td>-0.171415</td>\n      <td>-0.191442</td>\n      <td>-0.185028</td>\n      <td>-0.197875</td>\n      <td>-0.194533</td>\n      <td>-0.195466</td>\n      <td>-0.011365</td>\n    </tr>\n    <tr>\n      <td>askRate1</td>\n      <td>0.978121</td>\n      <td>1.000000</td>\n      <td>0.983577</td>\n      <td>0.965077</td>\n      <td>0.943823</td>\n      <td>0.926730</td>\n      <td>0.910843</td>\n      <td>0.896994</td>\n      <td>0.885555</td>\n      <td>0.874861</td>\n      <td>...</td>\n      <td>-0.174499</td>\n      <td>-0.172914</td>\n      <td>-0.182693</td>\n      <td>-0.167820</td>\n      <td>-0.188033</td>\n      <td>-0.181255</td>\n      <td>-0.193599</td>\n      <td>-0.190151</td>\n      <td>-0.191212</td>\n      <td>-0.010363</td>\n    </tr>\n    <tr>\n      <td>askRate2</td>\n      <td>0.962060</td>\n      <td>0.983577</td>\n      <td>1.000000</td>\n      <td>0.981198</td>\n      <td>0.959574</td>\n      <td>0.942187</td>\n      <td>0.926026</td>\n      <td>0.911943</td>\n      <td>0.900311</td>\n      <td>0.889440</td>\n      <td>...</td>\n      <td>-0.171801</td>\n      <td>-0.170152</td>\n      <td>-0.179779</td>\n      <td>-0.165071</td>\n      <td>-0.185254</td>\n      <td>-0.178533</td>\n      <td>-0.190470</td>\n      <td>-0.186948</td>\n      <td>-0.188040</td>\n      <td>-0.010095</td>\n    </tr>\n    <tr>\n      <td>askRate3</td>\n      <td>0.943962</td>\n      <td>0.965077</td>\n      <td>0.981198</td>\n      <td>1.000000</td>\n      <td>0.977960</td>\n      <td>0.960242</td>\n      <td>0.943775</td>\n      <td>0.929428</td>\n      <td>0.917574</td>\n      <td>0.906502</td>\n      <td>...</td>\n      <td>-0.168773</td>\n      <td>-0.167214</td>\n      <td>-0.176452</td>\n      <td>-0.161989</td>\n      <td>-0.181866</td>\n      <td>-0.175415</td>\n      <td>-0.187000</td>\n      <td>-0.183360</td>\n      <td>-0.184615</td>\n      <td>-0.009620</td>\n    </tr>\n    <tr>\n      <td>askRate4</td>\n      <td>0.923187</td>\n      <td>0.943823</td>\n      <td>0.959574</td>\n      <td>0.977960</td>\n      <td>1.000000</td>\n      <td>0.981890</td>\n      <td>0.965061</td>\n      <td>0.950403</td>\n      <td>0.938289</td>\n      <td>0.926975</td>\n      <td>...</td>\n      <td>-0.165602</td>\n      <td>-0.163599</td>\n      <td>-0.172696</td>\n      <td>-0.158595</td>\n      <td>-0.179233</td>\n      <td>-0.171671</td>\n      <td>-0.182821</td>\n      <td>-0.179067</td>\n      <td>-0.180679</td>\n      <td>-0.009189</td>\n    </tr>\n    <tr>\n      <td>...</td>\n      <td>...</td>\n      <td>...</td>\n      <td>...</td>\n      <td>...</td>\n      <td>...</td>\n      <td>...</td>\n      <td>...</td>\n      <td>...</td>\n      <td>...</td>\n      <td>...</td>\n      <td>...</td>\n      <td>...</td>\n      <td>...</td>\n      <td>...</td>\n      <td>...</td>\n      <td>...</td>\n      <td>...</td>\n      <td>...</td>\n      <td>...</td>\n      <td>...</td>\n      <td>...</td>\n    </tr>\n    <tr>\n      <td>bidSize11</td>\n      <td>-0.185028</td>\n      <td>-0.181255</td>\n      <td>-0.178533</td>\n      <td>-0.175415</td>\n      <td>-0.171671</td>\n      <td>-0.168778</td>\n      <td>-0.166217</td>\n      <td>-0.163877</td>\n      <td>-0.161992</td>\n      <td>-0.160149</td>\n      <td>...</td>\n      <td>0.026057</td>\n      <td>0.235840</td>\n      <td>0.024195</td>\n      <td>0.269019</td>\n      <td>0.028040</td>\n      <td>1.000000</td>\n      <td>0.035424</td>\n      <td>0.263080</td>\n      <td>0.033162</td>\n      <td>0.005139</td>\n    </tr>\n    <tr>\n      <td>bidSize12</td>\n      <td>-0.197875</td>\n      <td>-0.193599</td>\n      <td>-0.190470</td>\n      <td>-0.187000</td>\n      <td>-0.182821</td>\n      <td>-0.179691</td>\n      <td>-0.176645</td>\n      <td>-0.173900</td>\n      <td>-0.171869</td>\n      <td>-0.169884</td>\n      <td>...</td>\n      <td>0.259492</td>\n      <td>0.059747</td>\n      <td>0.225001</td>\n      <td>0.045081</td>\n      <td>0.249411</td>\n      <td>0.035424</td>\n      <td>1.000000</td>\n      <td>0.028798</td>\n      <td>0.218764</td>\n      <td>0.004842</td>\n    </tr>\n    <tr>\n      <td>bidSize13</td>\n      <td>-0.194533</td>\n      <td>-0.190151</td>\n      <td>-0.186948</td>\n      <td>-0.183360</td>\n      <td>-0.179067</td>\n      <td>-0.175671</td>\n      <td>-0.172512</td>\n      <td>-0.169832</td>\n      <td>-0.167494</td>\n      <td>-0.165424</td>\n      <td>...</td>\n      <td>0.037640</td>\n      <td>0.225516</td>\n      <td>0.049657</td>\n      <td>0.223095</td>\n      <td>0.045414</td>\n      <td>0.263080</td>\n      <td>0.028798</td>\n      <td>1.000000</td>\n      <td>0.027354</td>\n      <td>0.004210</td>\n    </tr>\n    <tr>\n      <td>bidSize14</td>\n      <td>-0.195466</td>\n      <td>-0.191212</td>\n      <td>-0.188040</td>\n      <td>-0.184615</td>\n      <td>-0.180679</td>\n      <td>-0.177632</td>\n      <td>-0.174627</td>\n      <td>-0.172032</td>\n      <td>-0.169906</td>\n      <td>-0.167873</td>\n      <td>...</td>\n      <td>0.171910</td>\n      <td>0.058765</td>\n      <td>0.204565</td>\n      <td>0.037405</td>\n      <td>0.199062</td>\n      <td>0.033162</td>\n      <td>0.218764</td>\n      <td>0.027354</td>\n      <td>1.000000</td>\n      <td>0.001813</td>\n    </tr>\n    <tr>\n      <td>y</td>\n      <td>-0.011365</td>\n      <td>-0.010363</td>\n      <td>-0.010095</td>\n      <td>-0.009620</td>\n      <td>-0.009189</td>\n      <td>-0.009208</td>\n      <td>-0.008868</td>\n      <td>-0.008307</td>\n      <td>-0.008033</td>\n      <td>-0.007693</td>\n      <td>...</td>\n      <td>0.005607</td>\n      <td>0.001157</td>\n      <td>0.006540</td>\n      <td>0.007575</td>\n      <td>0.004998</td>\n      <td>0.005139</td>\n      <td>0.004842</td>\n      <td>0.004210</td>\n      <td>0.001813</td>\n      <td>1.000000</td>\n    </tr>\n  </tbody>\n</table>\n<p>61 rows × 61 columns</p>\n</div>"
     },
     "metadata": {},
     "output_type": "execute_result",
     "execution_count": 4
    }
   ],
   "source": [
    "# Basic data exploration:\n",
    "# (1) Print the first lines of the table\n",
    "df.head()\n",
    "\n",
    "# (2) Print mean, standard deviation, and other basic statistical info\n",
    "df.describe()\n",
    "\n",
    "# (3) Print correlation matrix\n",
    "df.corr()"
   ],
   "metadata": {
    "collapsed": false,
    "pycharm": {
     "name": "#%%\n",
     "is_executing": false
    }
   }
  },
  {
   "cell_type": "code",
   "execution_count": 5,
   "outputs": [],
   "source": [
    "# Create new features\n",
    "df['maxaskRate'] = df[['askRate0','askRate1','askRate2','askRate3','askRate4','askRate5','askRate6','askRate7','askRate8','askRate9','askRate10','askRate11','askRate12','askRate13','askRate14']].max(axis=1)\n",
    "df['minaskRate'] = df[['askRate0','askRate1','askRate2','askRate3','askRate4','askRate5','askRate6','askRate7','askRate8','askRate9','askRate10','askRate11','askRate12','askRate13','askRate14']].min(axis=1)\n",
    "df['maxbidRate'] = df[['bidRate0','bidRate1','bidRate2','bidRate3','bidRate4','bidRate5','bidRate6','bidRate7','bidRate8','bidRate9','bidRate10','bidRate11','bidRate12','bidRate13','bidRate14']].max(axis=1)\n",
    "df['minbidRate'] = df[['bidRate0','bidRate1','bidRate2','bidRate3','bidRate4','bidRate5','bidRate6','bidRate7','bidRate8','bidRate9','bidRate10','bidRate11','bidRate12','bidRate13','bidRate14']].min(axis=1)\n",
    "df['askBidRatio'] = df['minaskRate'] / df['maxbidRate']\n",
    "df['totalaskSize'] = df[['askSize0','askSize1','askSize2','askSize3','askSize4','askSize5','askSize6','askSize7','askSize8','askSize9','askSize10','askSize11','askSize12','askSize13','askSize14']].sum(axis=1)\n",
    "df['totalbidSize'] = df[['bidSize0','bidSize1','bidSize2','bidSize3','bidSize4','bidSize5','bidSize6','bidSize7','bidSize8','bidSize9','bidSize10','bidSize11','bidSize12','bidSize13','bidSize14']].sum(axis=1)\n",
    "df.fillna(0, inplace = True)\n",
    "\n",
    "# Create a feature 'average ask rate' ('avgaskRate'), where the average is computed after removing zero entries\n",
    "# 'askNotEqualZero' is a helper feature that counts the number of non-zero entries, that will be dropped later\n",
    "df['askNotEqualZero'] = df[['askRate0','askRate1','askRate2','askRate3','askRate4','askRate5','askRate6','askRate7','askRate8','askRate9','askRate10','askRate11','askRate12','askRate13','askRate14']].ne(0).sum(axis=1)\n",
    "df['avgaskRate'] = (df['askRate0']*df['askSize0']+df['askRate1']*df['askSize1']+df['askRate2']*df['askSize2']+df['askRate3']*df['askSize3']+df['askRate4']*df['askSize4']+df['askRate5']*df['askSize5']+df['askRate6']*df['askSize6']+df['askRate7']*df['askSize7']+df['askRate8']*df['askSize8']+df['askRate9']*df['askSize9']+df['askRate10']*df['askSize10']+df['askRate11']*df['askSize11']+df['askRate12']*df['askSize12']+df['askRate13']*df['askSize13']+df['askRate14']*df['askSize14'])/df['askNotEqualZero']\n",
    "\n",
    "# Create a feature 'average bid rate' ('avgbidRate'), where the average is computed after removing zero entries\n",
    "# 'bidNotEqualZero' is a helper feature that counts the number of non-zero entries, that will be dropped later\n",
    "df['bidNotEqualZero'] = df[['bidRate0','bidRate1','bidRate2','bidRate3','bidRate4','bidRate5','bidRate6','bidRate7','bidRate8','bidRate9','bidRate10','bidRate11','bidRate12','bidRate13','bidRate14']].ne(0).sum(axis=1)\n",
    "df['avgbidRate'] = (df['bidRate0']*df['bidSize0']+df['bidRate1']*df['bidSize1']+df['bidRate2']*df['bidSize2']+df['bidRate3']*df['bidSize3']+df['bidRate4']*df['bidSize4']+df['bidRate5']*df['bidSize5']+df['bidRate6']*df['bidSize6']+df['bidRate7']*df['bidSize7']+df['bidRate8']*df['bidSize8']+df['bidRate9']*df['bidSize9']+df['bidRate10']*df['bidSize10']+df['bidRate11']*df['bidSize11']+df['bidRate12']*df['bidSize12']+df['bidRate13']*df['bidSize13']+df['bidRate14']*df['bidSize14'])/df['bidNotEqualZero']\n",
    "\n",
    "# The helper variables are dropped here\n",
    "df = df.drop(['askNotEqualZero','bidNotEqualZero'], axis=1)"
   ],
   "metadata": {
    "collapsed": false,
    "pycharm": {
     "name": "#%%\n",
     "is_executing": false
    }
   }
  },
  {
   "cell_type": "code",
   "execution_count": 6,
   "outputs": [],
   "source": [
    "# Prepare data for training:\n",
    "\n",
    "# (1) Create separate dataframes for input and output variables\n",
    "X = df.drop('y', axis=1)\n",
    "Y = df['y']\n",
    "\n",
    "# (2) Split the dataset into training and test set\n",
    "from sklearn.model_selection import train_test_split\n",
    "X_train, X_test, y_train, y_test = train_test_split(X, Y, test_size=0.3, random_state=1) "
   ],
   "metadata": {
    "collapsed": false,
    "pycharm": {
     "name": "#%%\n",
     "is_executing": false
    }
   }
  },
  {
   "cell_type": "code",
   "execution_count": 7,
   "outputs": [
    {
     "data": {
      "text/plain": "RandomForestRegressor(bootstrap=True, criterion='mse', max_depth=7,\n                      max_features='auto', max_leaf_nodes=None,\n                      min_impurity_decrease=0.0, min_impurity_split=None,\n                      min_samples_leaf=1, min_samples_split=2,\n                      min_weight_fraction_leaf=0.0, n_estimators=10, n_jobs=4,\n                      oob_score=False, random_state=None, verbose=0,\n                      warm_start=False)"
     },
     "metadata": {},
     "output_type": "execute_result",
     "execution_count": 7
    }
   ],
   "source": [
    "# Training a random forest regressor\n",
    "# (see https://en.wikipedia.org/wiki/Random_forest and https://scikit-learn.org/stable/modules/generated/sklearn.ensemble.RandomForestRegressor.html)\n",
    "from sklearn.ensemble import RandomForestRegressor\n",
    "\n",
    "n_estimators = 10\n",
    "max_depth = 7\n",
    "\n",
    "regr = RandomForestRegressor(n_estimators=n_estimators, n_jobs=4, max_depth=max_depth)\n",
    "\n",
    "regr.fit(X_train, y_train)"
   ],
   "metadata": {
    "collapsed": false,
    "pycharm": {
     "name": "#%%\n",
     "is_executing": false
    }
   }
  },
  {
   "cell_type": "code",
   "execution_count": 8,
   "outputs": [],
   "source": [
    "# Store the regressor in a file to be used by for later predictions\n",
    "import pickle\n",
    "f = open('forest-regressor-10x7.pckl', 'wb')\n",
    "pickle.dump(regr, f)\n",
    "f.close()"
   ],
   "metadata": {
    "collapsed": false,
    "pycharm": {
     "name": "#%%\n",
     "is_executing": false
    }
   }
  },
  {
   "cell_type": "code",
   "execution_count": 9,
   "outputs": [
    {
     "data": {
      "text/plain": "0.032151644142432656"
     },
     "metadata": {},
     "output_type": "execute_result",
     "execution_count": 9
    }
   ],
   "source": [
    "# Evaluate the model by computing the R2 score on the test set\n",
    "from sklearn.metrics import r2_score\n",
    "yhat = regr.predict(X_test)\n",
    "r2_score(y_test, yhat)"
   ],
   "metadata": {
    "collapsed": false,
    "pycharm": {
     "name": "#%%\n",
     "is_executing": false
    }
   }
  }
 ],
 "metadata": {
  "language_info": {
   "codemirror_mode": {
    "name": "ipython",
    "version": 2
   },
   "file_extension": ".py",
   "mimetype": "text/x-python",
   "name": "python",
   "nbconvert_exporter": "python",
   "pygments_lexer": "ipython2",
   "version": "2.7.6"
  },
  "kernelspec": {
   "name": "python3",
   "language": "python",
   "display_name": "Python 3"
  },
  "pycharm": {
   "stem_cell": {
    "cell_type": "raw",
    "source": [],
    "metadata": {
     "collapsed": false
    }
   }
  }
 },
 "nbformat": 4,
 "nbformat_minor": 0
}